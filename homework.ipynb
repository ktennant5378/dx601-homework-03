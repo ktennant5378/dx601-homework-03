{
  "cells": [
    {
      "cell_type": "markdown",
      "metadata": {
        "id": "dOAc3rwtOqza"
      },
      "source": [
        "# DX 601 Week 3 Homework"
      ]
    },
    {
      "cell_type": "markdown",
      "metadata": {
        "id": "HvFQlfoVn8ZT"
      },
      "source": [
        "## Introduction\n",
        "\n",
        "In this homework, you will practice plotting data and calculating model predictions and losses.\n",
        "\n",
        "You may find it helpful to refer to these GitHub repositories of Jupyter notebooks for sample code.\n",
        "\n",
        "* https://github.com/bu-cds-omds/dx500-examples\n",
        "* https://github.com/bu-cds-omds/dx601-examples\n",
        "* https://github.com/bu-cds-omds/dx602-examples\n",
        "\n",
        "Any calculations demonstrated in code examples or videos may be found in these notebooks, and you are allowed to copy this example code in your homework answers."
      ]
    },
    {
      "cell_type": "markdown",
      "metadata": {
        "id": "4sDiMJ05oO_Q"
      },
      "source": [
        "## Instructions\n",
        "\n",
        "You should replace every instance of \"...\" below.\n",
        "These are where you are expected to write code to answer each problem.\n",
        "\n",
        "After some of the problems, there are extra code cells that will test functions that you wrote so you can quickly see how they run on an example.\n",
        "If your code works on these examples, it is more likely to be correct.\n",
        "However, the autograder will test different examples, so working correctly on these examples does not guarantee full credit for the problem.\n",
        "You may change the example inputs to further test your functions on your own.\n",
        "You may also add your own example inputs for problems where we did not provide any.\n",
        "\n",
        "Be sure to run each code block after you edit it to make sure it runs as expected.\n",
        "When you are done, we strongly recommend you run all the code from scratch (Runtime menu -> Restart and Run all) to make sure your current code works for all problems.\n",
        "\n",
        "If your code raises an exception when run from scratch, it will  interfere with the auto-grader process causing you to lose some or all points for this homework.\n",
        "Please ask for help in YellowDig or schedule an appointment with a learning facilitator if you get stuck.\n"
      ]
    },
    {
      "cell_type": "markdown",
      "metadata": {},
      "source": [
        "## Shared Imports\n",
        "\n",
        "Do not install or use any additional modules.\n",
        "Installing additional modules may result in an autograder failure resulting in zero points for some or all problems."
      ]
    },
    {
      "cell_type": "code",
      "execution_count": 6,
      "metadata": {
        "id": "vU_BLpXEBq8E"
      },
      "outputs": [],
      "source": [
        "import matplotlib.pyplot as plt\n",
        "import numpy as np\n",
        "import pandas as pd\n",
        "import sklearn.linear_model"
      ]
    },
    {
      "cell_type": "markdown",
      "metadata": {
        "id": "Ue92HFnk-jSr"
      },
      "source": [
        "### Problem 1\n",
        "\n",
        "The code below loads a small mango data set into the variable `mango_data`.\n",
        "The variable `mango_data` is a pandas dataframe which lets you easily access data one row at a time or one column at a time.\n"
      ]
    },
    {
      "cell_type": "code",
      "execution_count": 22,
      "metadata": {
        "id": "WwPXKuYW-MeA"
      },
      "outputs": [],
      "source": [
        "mango_data = pd.read_csv(\"mango-tiny.tsv\", sep=\"\\t\")"
      ]
    },
    {
      "cell_type": "code",
      "execution_count": 23,
      "metadata": {
        "colab": {
          "base_uri": "https://localhost:8080/",
          "height": 297
        },
        "id": "5biBYb2g-YKX",
        "outputId": "bd99849c-1747-461a-84fd-4cda2953c47c"
      },
      "outputs": [
        {
          "data": {
            "text/html": [
              "<div>\n",
              "<style scoped>\n",
              "    .dataframe tbody tr th:only-of-type {\n",
              "        vertical-align: middle;\n",
              "    }\n",
              "\n",
              "    .dataframe tbody tr th {\n",
              "        vertical-align: top;\n",
              "    }\n",
              "\n",
              "    .dataframe thead th {\n",
              "        text-align: right;\n",
              "    }\n",
              "</style>\n",
              "<table border=\"1\" class=\"dataframe\">\n",
              "  <thead>\n",
              "    <tr style=\"text-align: right;\">\n",
              "      <th></th>\n",
              "      <th>green_rating</th>\n",
              "      <th>yellow_rating</th>\n",
              "      <th>softness</th>\n",
              "      <th>wrinkles</th>\n",
              "      <th>estimated_flavor</th>\n",
              "      <th>estimated_sweetness</th>\n",
              "      <th>rated_flavor</th>\n",
              "    </tr>\n",
              "  </thead>\n",
              "  <tbody>\n",
              "    <tr>\n",
              "      <th>0</th>\n",
              "      <td>1</td>\n",
              "      <td>5</td>\n",
              "      <td>4</td>\n",
              "      <td>0</td>\n",
              "      <td>4</td>\n",
              "      <td>4</td>\n",
              "      <td>5</td>\n",
              "    </tr>\n",
              "    <tr>\n",
              "      <th>1</th>\n",
              "      <td>1</td>\n",
              "      <td>5</td>\n",
              "      <td>5</td>\n",
              "      <td>1</td>\n",
              "      <td>5</td>\n",
              "      <td>5</td>\n",
              "      <td>1</td>\n",
              "    </tr>\n",
              "    <tr>\n",
              "      <th>2</th>\n",
              "      <td>2</td>\n",
              "      <td>4</td>\n",
              "      <td>3</td>\n",
              "      <td>1</td>\n",
              "      <td>3</td>\n",
              "      <td>3</td>\n",
              "      <td>3</td>\n",
              "    </tr>\n",
              "    <tr>\n",
              "      <th>3</th>\n",
              "      <td>3</td>\n",
              "      <td>3</td>\n",
              "      <td>2</td>\n",
              "      <td>0</td>\n",
              "      <td>2</td>\n",
              "      <td>1</td>\n",
              "      <td>2</td>\n",
              "    </tr>\n",
              "    <tr>\n",
              "      <th>4</th>\n",
              "      <td>5</td>\n",
              "      <td>1</td>\n",
              "      <td>1</td>\n",
              "      <td>1</td>\n",
              "      <td>1</td>\n",
              "      <td>1</td>\n",
              "      <td>1</td>\n",
              "    </tr>\n",
              "    <tr>\n",
              "      <th>5</th>\n",
              "      <td>4</td>\n",
              "      <td>2</td>\n",
              "      <td>1</td>\n",
              "      <td>1</td>\n",
              "      <td>1</td>\n",
              "      <td>1</td>\n",
              "      <td>1</td>\n",
              "    </tr>\n",
              "    <tr>\n",
              "      <th>6</th>\n",
              "      <td>5</td>\n",
              "      <td>1</td>\n",
              "      <td>1</td>\n",
              "      <td>1</td>\n",
              "      <td>2</td>\n",
              "      <td>1</td>\n",
              "      <td>1</td>\n",
              "    </tr>\n",
              "    <tr>\n",
              "      <th>7</th>\n",
              "      <td>3</td>\n",
              "      <td>3</td>\n",
              "      <td>2</td>\n",
              "      <td>1</td>\n",
              "      <td>2</td>\n",
              "      <td>2</td>\n",
              "      <td>2</td>\n",
              "    </tr>\n",
              "  </tbody>\n",
              "</table>\n",
              "</div>"
            ],
            "text/plain": [
              "   green_rating  yellow_rating  softness  wrinkles  estimated_flavor  \\\n",
              "0             1              5         4         0                 4   \n",
              "1             1              5         5         1                 5   \n",
              "2             2              4         3         1                 3   \n",
              "3             3              3         2         0                 2   \n",
              "4             5              1         1         1                 1   \n",
              "5             4              2         1         1                 1   \n",
              "6             5              1         1         1                 2   \n",
              "7             3              3         2         1                 2   \n",
              "\n",
              "   estimated_sweetness  rated_flavor  \n",
              "0                    4             5  \n",
              "1                    5             1  \n",
              "2                    3             3  \n",
              "3                    1             2  \n",
              "4                    1             1  \n",
              "5                    1             1  \n",
              "6                    1             1  \n",
              "7                    2             2  "
            ]
          },
          "execution_count": 23,
          "metadata": {},
          "output_type": "execute_result"
        }
      ],
      "source": [
        "mango_data"
      ]
    },
    {
      "cell_type": "markdown",
      "metadata": {
        "id": "RDJb2v6U_Wkb"
      },
      "source": [
        "Given a dataframe, you can select a column by indexing it with the name of the column.\n",
        "The indexing operation uses square brackets and the name of the column goes between them.\n",
        "Here is an example selecting the \"softness\" column of the mango data."
      ]
    },
    {
      "cell_type": "code",
      "execution_count": 20,
      "metadata": {
        "colab": {
          "base_uri": "https://localhost:8080/",
          "height": 331
        },
        "id": "DCo7MQVP-u4G",
        "outputId": "998b0106-e1df-4146-cb26-7d178d60fbeb"
      },
      "outputs": [
        {
          "data": {
            "text/plain": [
              "0    4\n",
              "1    5\n",
              "2    3\n",
              "3    2\n",
              "4    1\n",
              "5    1\n",
              "6    1\n",
              "7    2\n",
              "Name: softness, dtype: int64"
            ]
          },
          "execution_count": 20,
          "metadata": {},
          "output_type": "execute_result"
        }
      ],
      "source": [
        "mango_data[\"softness\"]"
      ]
    },
    {
      "cell_type": "markdown",
      "metadata": {
        "id": "owqR5luF-ggl"
      },
      "source": [
        "Most Python operations and functions that work with sequences such as lists also work with Pandas dataframe columns.\n",
        "For example, you can compute the sum of a dataframe column using the `sum` function."
      ]
    },
    {
      "cell_type": "code",
      "execution_count": 5,
      "metadata": {
        "colab": {
          "base_uri": "https://localhost:8080/"
        },
        "id": "3ZFCwWc2AiOX",
        "outputId": "e5295ddb-8967-420c-f831-c02a2786e9a1"
      },
      "outputs": [
        {
          "data": {
            "text/plain": [
              "19"
            ]
          },
          "execution_count": 5,
          "metadata": {},
          "output_type": "execute_result"
        }
      ],
      "source": [
        "sum(mango_data[\"softness\"])"
      ]
    },
    {
      "cell_type": "markdown",
      "metadata": {
        "id": "ycQ7Tw8LApQY"
      },
      "source": [
        "Set `p1` to the average of the estimated sweetness column in the small mango data set."
      ]
    },
    {
      "cell_type": "code",
      "execution_count": 7,
      "metadata": {
        "id": "WyNxML4oAvRh"
      },
      "outputs": [],
      "source": [
        "# YOUR CHANGES HERE\n",
        "\n",
        "p1 = np.average(mango_data[\"estimated_sweetness\"])"
      ]
    },
    {
      "cell_type": "markdown",
      "metadata": {
        "id": "2RwFeLSyYYMp"
      },
      "source": [
        "Check the value of `p1`."
      ]
    },
    {
      "cell_type": "code",
      "execution_count": 34,
      "metadata": {
        "colab": {
          "base_uri": "https://localhost:8080/"
        },
        "id": "FPvXKn0NAwRV",
        "outputId": "bcfface8-9ef1-410b-d459-b3dc23192f10"
      },
      "outputs": [
        {
          "data": {
            "text/plain": [
              "2.25"
            ]
          },
          "execution_count": 34,
          "metadata": {},
          "output_type": "execute_result"
        }
      ],
      "source": [
        "p1"
      ]
    },
    {
      "cell_type": "markdown",
      "metadata": {
        "id": "7-cQDJv6b4VQ"
      },
      "source": [
        "### Problem 2\n",
        "\n",
        "Write a function `p2` that takes in an input number `x` and returns $3 x + 1$.\n",
        "\n",
        "(You can make any specific linear function this way, but it may only work on simpler input formats.)"
      ]
    },
    {
      "cell_type": "code",
      "execution_count": 33,
      "metadata": {},
      "outputs": [],
      "source": [
        "# YOUR CHANGES HERE\n",
        "\n",
        "def p2(x):\n",
        "    return [x for x in 3*x+1]"
      ]
    },
    {
      "cell_type": "markdown",
      "metadata": {
        "id": "Ms5xuwJhBZGq"
      },
      "source": [
        "### Problem 3\n",
        "\n",
        "Plot the small mango data set using the estimated sweetness as the x axis and the rated flavor as the y axis.\n",
        "\n",
        "To do this, edit the line below that says\n",
        "```\n",
        "#p3 = plt.scatter(..., ...)\n",
        "```\n",
        "The first ellipsis should be replaced with the x data, and the second ellipsis should be replaced with the y data.\n",
        "After you do this, uncomment the line by removing the `#` character at the beginning.\n",
        "Make sure not to leave any extra spaces there."
      ]
    },
    {
      "cell_type": "code",
      "execution_count": 36,
      "metadata": {
        "id": "iN_rB_QJBk_K"
      },
      "outputs": [
        {
          "ename": "TypeError",
          "evalue": "float() argument must be a string or a real number, not 'function'",
          "output_type": "error",
          "traceback": [
            "\u001b[1;31m---------------------------------------------------------------------------\u001b[0m",
            "\u001b[1;31mTypeError\u001b[0m                                 Traceback (most recent call last)",
            "Cell \u001b[1;32mIn[36], line 4\u001b[0m\n\u001b[0;32m      1\u001b[0m \u001b[38;5;66;03m# YOUR CHANGES HERE\u001b[39;00m\n\u001b[0;32m      2\u001b[0m \n\u001b[0;32m      3\u001b[0m \u001b[38;5;66;03m# uncomment the following line after filling in the data to be plotted.\u001b[39;00m\n\u001b[1;32m----> 4\u001b[0m p3 \u001b[38;5;241m=\u001b[39m plt\u001b[38;5;241m.\u001b[39mscatter(p2, \u001b[38;5;124m\"\u001b[39m\u001b[38;5;124mRated Flavor\u001b[39m\u001b[38;5;124m\"\u001b[39m)\n\u001b[0;32m      6\u001b[0m plt\u001b[38;5;241m.\u001b[39mxlabel(\u001b[38;5;124m\"\u001b[39m\u001b[38;5;124mEstimated Sweetness\u001b[39m\u001b[38;5;124m\"\u001b[39m)\n\u001b[0;32m      7\u001b[0m plt\u001b[38;5;241m.\u001b[39mylabel(\u001b[38;5;124m\"\u001b[39m\u001b[38;5;124mRated Flavor\u001b[39m\u001b[38;5;124m\"\u001b[39m)\n",
            "File \u001b[1;32mc:\\Users\\kengt\\anaconda3\\Lib\\site-packages\\matplotlib\\pyplot.py:3687\u001b[0m, in \u001b[0;36mscatter\u001b[1;34m(x, y, s, c, marker, cmap, norm, vmin, vmax, alpha, linewidths, edgecolors, plotnonfinite, data, **kwargs)\u001b[0m\n\u001b[0;32m   3668\u001b[0m \u001b[38;5;129m@_copy_docstring_and_deprecators\u001b[39m(Axes\u001b[38;5;241m.\u001b[39mscatter)\n\u001b[0;32m   3669\u001b[0m \u001b[38;5;28;01mdef\u001b[39;00m \u001b[38;5;21mscatter\u001b[39m(\n\u001b[0;32m   3670\u001b[0m     x: \u001b[38;5;28mfloat\u001b[39m \u001b[38;5;241m|\u001b[39m ArrayLike,\n\u001b[1;32m   (...)\u001b[0m\n\u001b[0;32m   3685\u001b[0m     \u001b[38;5;241m*\u001b[39m\u001b[38;5;241m*\u001b[39mkwargs,\n\u001b[0;32m   3686\u001b[0m ) \u001b[38;5;241m-\u001b[39m\u001b[38;5;241m>\u001b[39m PathCollection:\n\u001b[1;32m-> 3687\u001b[0m     __ret \u001b[38;5;241m=\u001b[39m gca()\u001b[38;5;241m.\u001b[39mscatter(\n\u001b[0;32m   3688\u001b[0m         x,\n\u001b[0;32m   3689\u001b[0m         y,\n\u001b[0;32m   3690\u001b[0m         s\u001b[38;5;241m=\u001b[39ms,\n\u001b[0;32m   3691\u001b[0m         c\u001b[38;5;241m=\u001b[39mc,\n\u001b[0;32m   3692\u001b[0m         marker\u001b[38;5;241m=\u001b[39mmarker,\n\u001b[0;32m   3693\u001b[0m         cmap\u001b[38;5;241m=\u001b[39mcmap,\n\u001b[0;32m   3694\u001b[0m         norm\u001b[38;5;241m=\u001b[39mnorm,\n\u001b[0;32m   3695\u001b[0m         vmin\u001b[38;5;241m=\u001b[39mvmin,\n\u001b[0;32m   3696\u001b[0m         vmax\u001b[38;5;241m=\u001b[39mvmax,\n\u001b[0;32m   3697\u001b[0m         alpha\u001b[38;5;241m=\u001b[39malpha,\n\u001b[0;32m   3698\u001b[0m         linewidths\u001b[38;5;241m=\u001b[39mlinewidths,\n\u001b[0;32m   3699\u001b[0m         edgecolors\u001b[38;5;241m=\u001b[39medgecolors,\n\u001b[0;32m   3700\u001b[0m         plotnonfinite\u001b[38;5;241m=\u001b[39mplotnonfinite,\n\u001b[0;32m   3701\u001b[0m         \u001b[38;5;241m*\u001b[39m\u001b[38;5;241m*\u001b[39m({\u001b[38;5;124m\"\u001b[39m\u001b[38;5;124mdata\u001b[39m\u001b[38;5;124m\"\u001b[39m: data} \u001b[38;5;28;01mif\u001b[39;00m data \u001b[38;5;129;01mis\u001b[39;00m \u001b[38;5;129;01mnot\u001b[39;00m \u001b[38;5;28;01mNone\u001b[39;00m \u001b[38;5;28;01melse\u001b[39;00m {}),\n\u001b[0;32m   3702\u001b[0m         \u001b[38;5;241m*\u001b[39m\u001b[38;5;241m*\u001b[39mkwargs,\n\u001b[0;32m   3703\u001b[0m     )\n\u001b[0;32m   3704\u001b[0m     sci(__ret)\n\u001b[0;32m   3705\u001b[0m     \u001b[38;5;28;01mreturn\u001b[39;00m __ret\n",
            "File \u001b[1;32mc:\\Users\\kengt\\anaconda3\\Lib\\site-packages\\matplotlib\\__init__.py:1465\u001b[0m, in \u001b[0;36m_preprocess_data.<locals>.inner\u001b[1;34m(ax, data, *args, **kwargs)\u001b[0m\n\u001b[0;32m   1462\u001b[0m \u001b[38;5;129m@functools\u001b[39m\u001b[38;5;241m.\u001b[39mwraps(func)\n\u001b[0;32m   1463\u001b[0m \u001b[38;5;28;01mdef\u001b[39;00m \u001b[38;5;21minner\u001b[39m(ax, \u001b[38;5;241m*\u001b[39margs, data\u001b[38;5;241m=\u001b[39m\u001b[38;5;28;01mNone\u001b[39;00m, \u001b[38;5;241m*\u001b[39m\u001b[38;5;241m*\u001b[39mkwargs):\n\u001b[0;32m   1464\u001b[0m     \u001b[38;5;28;01mif\u001b[39;00m data \u001b[38;5;129;01mis\u001b[39;00m \u001b[38;5;28;01mNone\u001b[39;00m:\n\u001b[1;32m-> 1465\u001b[0m         \u001b[38;5;28;01mreturn\u001b[39;00m func(ax, \u001b[38;5;241m*\u001b[39m\u001b[38;5;28mmap\u001b[39m(sanitize_sequence, args), \u001b[38;5;241m*\u001b[39m\u001b[38;5;241m*\u001b[39mkwargs)\n\u001b[0;32m   1467\u001b[0m     bound \u001b[38;5;241m=\u001b[39m new_sig\u001b[38;5;241m.\u001b[39mbind(ax, \u001b[38;5;241m*\u001b[39margs, \u001b[38;5;241m*\u001b[39m\u001b[38;5;241m*\u001b[39mkwargs)\n\u001b[0;32m   1468\u001b[0m     auto_label \u001b[38;5;241m=\u001b[39m (bound\u001b[38;5;241m.\u001b[39marguments\u001b[38;5;241m.\u001b[39mget(label_namer)\n\u001b[0;32m   1469\u001b[0m                   \u001b[38;5;129;01mor\u001b[39;00m bound\u001b[38;5;241m.\u001b[39mkwargs\u001b[38;5;241m.\u001b[39mget(label_namer))\n",
            "File \u001b[1;32mc:\\Users\\kengt\\anaconda3\\Lib\\site-packages\\matplotlib\\axes\\_axes.py:4741\u001b[0m, in \u001b[0;36mAxes.scatter\u001b[1;34m(self, x, y, s, c, marker, cmap, norm, vmin, vmax, alpha, linewidths, edgecolors, plotnonfinite, **kwargs)\u001b[0m\n\u001b[0;32m   4735\u001b[0m         linewidths \u001b[38;5;241m=\u001b[39m [\n\u001b[0;32m   4736\u001b[0m             lw \u001b[38;5;28;01mif\u001b[39;00m lw \u001b[38;5;129;01mis\u001b[39;00m \u001b[38;5;129;01mnot\u001b[39;00m \u001b[38;5;28;01mNone\u001b[39;00m \u001b[38;5;28;01melse\u001b[39;00m mpl\u001b[38;5;241m.\u001b[39mrcParams[\u001b[38;5;124m'\u001b[39m\u001b[38;5;124mlines.linewidth\u001b[39m\u001b[38;5;124m'\u001b[39m]\n\u001b[0;32m   4737\u001b[0m             \u001b[38;5;28;01mfor\u001b[39;00m lw \u001b[38;5;129;01min\u001b[39;00m linewidths]\n\u001b[0;32m   4739\u001b[0m offsets \u001b[38;5;241m=\u001b[39m np\u001b[38;5;241m.\u001b[39mma\u001b[38;5;241m.\u001b[39mcolumn_stack([x, y])\n\u001b[1;32m-> 4741\u001b[0m collection \u001b[38;5;241m=\u001b[39m mcoll\u001b[38;5;241m.\u001b[39mPathCollection(\n\u001b[0;32m   4742\u001b[0m     (path,), scales,\n\u001b[0;32m   4743\u001b[0m     facecolors\u001b[38;5;241m=\u001b[39mcolors,\n\u001b[0;32m   4744\u001b[0m     edgecolors\u001b[38;5;241m=\u001b[39medgecolors,\n\u001b[0;32m   4745\u001b[0m     linewidths\u001b[38;5;241m=\u001b[39mlinewidths,\n\u001b[0;32m   4746\u001b[0m     offsets\u001b[38;5;241m=\u001b[39moffsets,\n\u001b[0;32m   4747\u001b[0m     offset_transform\u001b[38;5;241m=\u001b[39mkwargs\u001b[38;5;241m.\u001b[39mpop(\u001b[38;5;124m'\u001b[39m\u001b[38;5;124mtransform\u001b[39m\u001b[38;5;124m'\u001b[39m, \u001b[38;5;28mself\u001b[39m\u001b[38;5;241m.\u001b[39mtransData),\n\u001b[0;32m   4748\u001b[0m     alpha\u001b[38;5;241m=\u001b[39malpha,\n\u001b[0;32m   4749\u001b[0m )\n\u001b[0;32m   4750\u001b[0m collection\u001b[38;5;241m.\u001b[39mset_transform(mtransforms\u001b[38;5;241m.\u001b[39mIdentityTransform())\n\u001b[0;32m   4751\u001b[0m \u001b[38;5;28;01mif\u001b[39;00m colors \u001b[38;5;129;01mis\u001b[39;00m \u001b[38;5;28;01mNone\u001b[39;00m:\n",
            "File \u001b[1;32mc:\\Users\\kengt\\anaconda3\\Lib\\site-packages\\matplotlib\\collections.py:1027\u001b[0m, in \u001b[0;36mPathCollection.__init__\u001b[1;34m(self, paths, sizes, **kwargs)\u001b[0m\n\u001b[0;32m   1013\u001b[0m \u001b[38;5;28;01mdef\u001b[39;00m \u001b[38;5;21m__init__\u001b[39m(\u001b[38;5;28mself\u001b[39m, paths, sizes\u001b[38;5;241m=\u001b[39m\u001b[38;5;28;01mNone\u001b[39;00m, \u001b[38;5;241m*\u001b[39m\u001b[38;5;241m*\u001b[39mkwargs):\n\u001b[0;32m   1014\u001b[0m \u001b[38;5;250m    \u001b[39m\u001b[38;5;124;03m\"\"\"\u001b[39;00m\n\u001b[0;32m   1015\u001b[0m \u001b[38;5;124;03m    Parameters\u001b[39;00m\n\u001b[0;32m   1016\u001b[0m \u001b[38;5;124;03m    ----------\u001b[39;00m\n\u001b[1;32m   (...)\u001b[0m\n\u001b[0;32m   1024\u001b[0m \u001b[38;5;124;03m        Forwarded to `.Collection`.\u001b[39;00m\n\u001b[0;32m   1025\u001b[0m \u001b[38;5;124;03m    \"\"\"\u001b[39;00m\n\u001b[1;32m-> 1027\u001b[0m     \u001b[38;5;28msuper\u001b[39m()\u001b[38;5;241m.\u001b[39m\u001b[38;5;21m__init__\u001b[39m(\u001b[38;5;241m*\u001b[39m\u001b[38;5;241m*\u001b[39mkwargs)\n\u001b[0;32m   1028\u001b[0m     \u001b[38;5;28mself\u001b[39m\u001b[38;5;241m.\u001b[39mset_paths(paths)\n\u001b[0;32m   1029\u001b[0m     \u001b[38;5;28mself\u001b[39m\u001b[38;5;241m.\u001b[39mset_sizes(sizes)\n",
            "File \u001b[1;32mc:\\Users\\kengt\\anaconda3\\Lib\\site-packages\\matplotlib\\collections.py:194\u001b[0m, in \u001b[0;36mCollection.__init__\u001b[1;34m(self, edgecolors, facecolors, linewidths, linestyles, capstyle, joinstyle, antialiaseds, offsets, offset_transform, norm, cmap, pickradius, hatch, urls, zorder, **kwargs)\u001b[0m\n\u001b[0;32m    191\u001b[0m     \u001b[38;5;28mself\u001b[39m\u001b[38;5;241m.\u001b[39m_joinstyle \u001b[38;5;241m=\u001b[39m \u001b[38;5;28;01mNone\u001b[39;00m\n\u001b[0;32m    193\u001b[0m \u001b[38;5;28;01mif\u001b[39;00m offsets \u001b[38;5;129;01mis\u001b[39;00m \u001b[38;5;129;01mnot\u001b[39;00m \u001b[38;5;28;01mNone\u001b[39;00m:\n\u001b[1;32m--> 194\u001b[0m     offsets \u001b[38;5;241m=\u001b[39m np\u001b[38;5;241m.\u001b[39masanyarray(offsets, \u001b[38;5;28mfloat\u001b[39m)\n\u001b[0;32m    195\u001b[0m     \u001b[38;5;66;03m# Broadcast (2,) -> (1, 2) but nothing else.\u001b[39;00m\n\u001b[0;32m    196\u001b[0m     \u001b[38;5;28;01mif\u001b[39;00m offsets\u001b[38;5;241m.\u001b[39mshape \u001b[38;5;241m==\u001b[39m (\u001b[38;5;241m2\u001b[39m,):\n",
            "\u001b[1;31mTypeError\u001b[0m: float() argument must be a string or a real number, not 'function'"
          ]
        },
        {
          "data": {
            "image/png": "[encoded data removed]",
            "text/plain": [
              "<Figure size 640x480 with 1 Axes>"
            ]
          },
          "metadata": {},
          "output_type": "display_data"
        }
      ],
      "source": [
        "# YOUR CHANGES HERE\n",
        "\n",
        "# uncomment the following line after filling in the data to be plotted.\n",
        "p3 = plt.scatter(p2, \"Rated Flavor\")\n",
        "\n",
        "plt.xlabel(\"Estimated Sweetness\")\n",
        "plt.ylabel(\"Rated Flavor\")\n",
        "plt.title(\"Rated Flavor vs Estimated Sweetness\")"
      ]
    },
    {
      "cell_type": "markdown",
      "metadata": {
        "id": "w_53DG2RDFco"
      },
      "source": [
        "### Problem 4\n",
        "\n",
        "The function `f4` implements a very simple linear function.\n",
        "`f4` takes in a dataframe and returns the \"estimated_sweetness\" column as its output.\n",
        "So $f_4(x) = 1.0 (\\mathrm{estimated~sweetness})$."
      ]
    },
    {
      "cell_type": "code",
      "execution_count": 13,
      "metadata": {
        "id": "ZcUQ3mnBOLmU"
      },
      "outputs": [],
      "source": [
        "def f4(df):\n",
        "    # the rename here is not strictly necessary, but makes the output more clear below.\n",
        "    # without the rename, the column below would be called estimated_sweetness.\n",
        "    return df[\"estimated_sweetness\"].rename(\"prediction\")"
      ]
    },
    {
      "cell_type": "code",
      "execution_count": 14,
      "metadata": {
        "colab": {
          "base_uri": "https://localhost:8080/",
          "height": 331
        },
        "id": "oJKxyjM6OgHp",
        "outputId": "1a3cbaf5-6c95-41c4-a103-a62dce35cea0"
      },
      "outputs": [
        {
          "data": {
            "text/plain": [
              "0    4\n",
              "1    5\n",
              "2    3\n",
              "3    1\n",
              "4    1\n",
              "5    1\n",
              "6    1\n",
              "7    2\n",
              "Name: prediction, dtype: int64"
            ]
          },
          "execution_count": 14,
          "metadata": {},
          "output_type": "execute_result"
        }
      ],
      "source": [
        "f4(mango_data)"
      ]
    },
    {
      "cell_type": "markdown",
      "metadata": {
        "id": "34OwchDmPVPz"
      },
      "source": [
        "Set `p4` to be the residuals from using `f4` as a model predicting the rated flavor column.\n",
        "The result should be a sequence of residuals, not a single number.\n",
        "\n",
        "A Python list, NumPy array, or pandas are all acceptable output types.\n",
        "Whatever output type you use, the order of outputs should match the order of rows in the mango data set."
      ]
    },
    {
      "cell_type": "code",
      "execution_count": 15,
      "metadata": {
        "id": "CNL0vOHrDfmT"
      },
      "outputs": [],
      "source": [
        "# YOUR CHANGES HERE\n",
        "\n",
        "p4 = f4(mango_data)"
      ]
    },
    {
      "cell_type": "markdown",
      "metadata": {
        "id": "PlYpei17YeFQ"
      },
      "source": [
        "Check the values in `p4`."
      ]
    },
    {
      "cell_type": "code",
      "execution_count": 16,
      "metadata": {
        "colab": {
          "base_uri": "https://localhost:8080/"
        },
        "id": "ne_0Q2RREfhz",
        "outputId": "2b198dd8-4e0a-4e6a-ad17-61502c93458d"
      },
      "outputs": [
        {
          "data": {
            "text/plain": [
              "0    4\n",
              "1    5\n",
              "2    3\n",
              "3    1\n",
              "4    1\n",
              "5    1\n",
              "6    1\n",
              "7    2\n",
              "Name: prediction, dtype: int64"
            ]
          },
          "execution_count": 16,
          "metadata": {},
          "output_type": "execute_result"
        }
      ],
      "source": [
        "p4"
      ]
    },
    {
      "cell_type": "markdown",
      "metadata": {
        "id": "QDUw3_EnFnbY"
      },
      "source": [
        "### Problem 5\n",
        "\n",
        "The function `f5` is another linear function computing $f_5(x) = 0.8 (\\mathrm{yellow~rating}) + 0.2 (\\mathrm{softness})$.\n"
      ]
    },
    {
      "cell_type": "code",
      "execution_count": 17,
      "metadata": {
        "id": "tI7Fr0blQFJo"
      },
      "outputs": [],
      "source": [
        "def f5(df):\n",
        "    return 0.8 * df[\"yellow_rating\"] + 0.2 * df[\"softness\"]"
      ]
    },
    {
      "cell_type": "code",
      "execution_count": 18,
      "metadata": {
        "colab": {
          "base_uri": "https://localhost:8080/",
          "height": 331
        },
        "id": "mi6H-RZxQTVz",
        "outputId": "ecfd6d3b-55b9-40d2-8f87-b4f673ba8062"
      },
      "outputs": [
        {
          "data": {
            "text/plain": [
              "0    4.8\n",
              "1    5.0\n",
              "2    3.8\n",
              "3    2.8\n",
              "4    1.0\n",
              "5    1.8\n",
              "6    1.0\n",
              "7    2.8\n",
              "dtype: float64"
            ]
          },
          "execution_count": 18,
          "metadata": {},
          "output_type": "execute_result"
        }
      ],
      "source": [
        "f5(mango_data)"
      ]
    },
    {
      "cell_type": "markdown",
      "metadata": {
        "id": "Cu3pYOhERHt1"
      },
      "source": [
        "Set `p5` to be the $L_1$ loss of each row of data after using `f5` to predict the rated flavor column.\n",
        "The result should be a sequence of losses, not a single number.\n",
        "\n",
        "A Python list, NumPy array, or pandas are all acceptable output types.\n",
        "Whatever output type you use, the order of outputs should match the order of rows in the mango data set."
      ]
    },
    {
      "cell_type": "code",
      "execution_count": 28,
      "metadata": {
        "id": "zvIjSLCdGbZM"
      },
      "outputs": [],
      "source": [
        "# YOUR CHANGES HERE\n",
        "\n",
        "p5 = (f5(mango_data) - mango_data[\"rated_flavor\"]).abs()"
      ]
    },
    {
      "cell_type": "markdown",
      "metadata": {
        "id": "Pz9yaOncYu1n"
      },
      "source": [
        "Check the values in `p5`."
      ]
    },
    {
      "cell_type": "code",
      "execution_count": 29,
      "metadata": {
        "id": "j8QCAkWMGdkv"
      },
      "outputs": [
        {
          "data": {
            "text/plain": [
              "0    0.2\n",
              "1    4.0\n",
              "2    0.8\n",
              "3    0.8\n",
              "4    0.0\n",
              "5    0.8\n",
              "6    0.0\n",
              "7    0.8\n",
              "dtype: float64"
            ]
          },
          "execution_count": 29,
          "metadata": {},
          "output_type": "execute_result"
        }
      ],
      "source": [
        "p5"
      ]
    },
    {
      "cell_type": "markdown",
      "metadata": {
        "id": "LE2GZpTZEjfL"
      },
      "source": [
        "### Problem 6\n",
        "\n",
        "The function `f6` is a linear function computing $f_6(x) = 1.2 (\\mathrm{yellow~rating}) - 0.1 (\\mathrm{green~rating}) - 0.1 (\\mathrm{wrinkles})$."
      ]
    },
    {
      "cell_type": "code",
      "execution_count": 30,
      "metadata": {
        "id": "7O7AReMcTCEJ"
      },
      "outputs": [],
      "source": [
        "def f6(df):\n",
        "    return 1.2 * df[\"yellow_rating\"] - 0.1 * df[\"green_rating\"] - 0.1 * df[\"wrinkles\"]"
      ]
    },
    {
      "cell_type": "code",
      "execution_count": 26,
      "metadata": {
        "colab": {
          "base_uri": "https://localhost:8080/",
          "height": 331
        },
        "id": "iivt-s3TTg0o",
        "outputId": "2c11280a-d08d-4eab-9444-493fda0062a9"
      },
      "outputs": [
        {
          "data": {
            "text/plain": [
              "0    5.9\n",
              "1    5.8\n",
              "2    4.5\n",
              "3    3.3\n",
              "4    0.6\n",
              "5    1.9\n",
              "6    0.6\n",
              "7    3.2\n",
              "dtype: float64"
            ]
          },
          "execution_count": 26,
          "metadata": {},
          "output_type": "execute_result"
        }
      ],
      "source": [
        "f6(mango_data)"
      ]
    },
    {
      "cell_type": "markdown",
      "metadata": {
        "id": "lUz_du4qSOEa"
      },
      "source": [
        "Set `p6` to be the average $L_2$ loss using `f6` to predict the rated flavor column.\n",
        "\n",
        "**Note that the average $L_2$ loss was requested.**\n",
        "Some of the videos this week calculated the sum of $L_2$ losses instead."
      ]
    },
    {
      "cell_type": "code",
      "execution_count": 31,
      "metadata": {
        "id": "P-KRYZurHBQY"
      },
      "outputs": [],
      "source": [
        "# YOUR CHANGES HERE\n",
        "\n",
        "p6 = np.mean((f6(mango_data) - mango_data[\"rated_flavor\"]) ** 2)\n"
      ]
    },
    {
      "cell_type": "markdown",
      "metadata": {
        "id": "KUlORPfEYk7M"
      },
      "source": [
        "Check the value of `p6`."
      ]
    },
    {
      "cell_type": "code",
      "execution_count": 32,
      "metadata": {
        "id": "vxJZcCrlHDGY"
      },
      "outputs": [
        {
          "data": {
            "text/plain": [
              "3.795000000000001"
            ]
          },
          "execution_count": 32,
          "metadata": {},
          "output_type": "execute_result"
        }
      ],
      "source": [
        "p6"
      ]
    },
    {
      "cell_type": "markdown",
      "metadata": {
        "id": "D5X3FDxqUviA"
      },
      "source": [
        "### Problem 7\n",
        "\n",
        "Write a function `p7` taking in a dataframe like the mangos data, and returning the \"estimated_flavor\" column as its predictions.\n",
        "(This should be similar to the predictions in Problem 3.)"
      ]
    },
    {
      "cell_type": "code",
      "execution_count": null,
      "metadata": {
        "id": "d65RLeqxVGeL"
      },
      "outputs": [],
      "source": [
        "# YOUR CHANGES HERE\n",
        "\n",
        "def p7(df):\n",
        "    return "
      ]
    },
    {
      "cell_type": "markdown",
      "metadata": {
        "id": "HtERTs1SVJVU"
      },
      "source": [
        "Check the output of p7 on the mango data set."
      ]
    },
    {
      "cell_type": "code",
      "execution_count": null,
      "metadata": {
        "id": "ihAvfuV4VMLS"
      },
      "outputs": [],
      "source": [
        "p7(mango_data)"
      ]
    },
    {
      "cell_type": "markdown",
      "metadata": {
        "id": "CScvFUGCTzbL"
      },
      "source": [
        "### Problem 8\n",
        "\n",
        "Set `p8` to be the average $L_2$ loss using the \"yellow_rating\" column to predict the \"rated_flavor\" column as in Problem 3."
      ]
    },
    {
      "cell_type": "code",
      "execution_count": null,
      "metadata": {
        "id": "88Ip7dA5TyQg"
      },
      "outputs": [],
      "source": [
        "# YOUR CHANGES HERE\n",
        "\n",
        "p8 = ..."
      ]
    },
    {
      "cell_type": "markdown",
      "metadata": {
        "id": "vi5zmmr3UJum"
      },
      "source": [
        "Check the value of `p8`."
      ]
    },
    {
      "cell_type": "code",
      "execution_count": null,
      "metadata": {
        "id": "xXCnP3iTULWw"
      },
      "outputs": [],
      "source": [
        "p8"
      ]
    },
    {
      "cell_type": "markdown",
      "metadata": {
        "id": "rraV_8bHWTXl"
      },
      "source": [
        "### Problem 9\n",
        "\n",
        "Write a function `p9` taking in a dataframe returning the results of $0.5 (\\mathrm{yellow~rating}) + 0.4 (\\mathrm{estimated~flavor})$."
      ]
    },
    {
      "cell_type": "code",
      "execution_count": null,
      "metadata": {
        "id": "MC-XVY3IWz3x"
      },
      "outputs": [],
      "source": [
        "# YOUR CHANGES HERE\n",
        "\n",
        "def p9(df):\n",
        "    return ..."
      ]
    },
    {
      "cell_type": "markdown",
      "metadata": {
        "id": "_IbItU5tW2-w"
      },
      "source": [
        "Check the output of `p9` with the mango data set."
      ]
    },
    {
      "cell_type": "code",
      "execution_count": null,
      "metadata": {
        "colab": {
          "base_uri": "https://localhost:8080/"
        },
        "id": "leKBoYh_W5Pa",
        "outputId": "554d9db2-28cc-4026-8e02-1133b6ccce41"
      },
      "outputs": [
        {
          "data": {
            "text/plain": [
              "Ellipsis"
            ]
          },
          "execution_count": null,
          "metadata": {},
          "output_type": "execute_result"
        }
      ],
      "source": [
        "p9(mango_data)"
      ]
    },
    {
      "cell_type": "markdown",
      "metadata": {
        "id": "ZwMZcSkdW8nO"
      },
      "source": [
        "### Problem 10\n",
        "\n",
        "Set `p10` to be the average $L_1$ loss using the prediction $0.3 (\\mathrm{yellow~rating}) + 0.1(\\mathrm{softness}) + 0.4(\\mathrm{estimated~sweetness})$ for the mango data set's rated flavor column."
      ]
    },
    {
      "cell_type": "code",
      "execution_count": 37,
      "metadata": {
        "id": "J3emV8dqXlgN"
      },
      "outputs": [],
      "source": [
        "# YOUR CHANGES HERE\n",
        "pred = 0.3 * mango_data[\"yellow_rating\"] + 0.1 * mango_data[\"softness\"] + 0.4 * mango_data[\"estimated_sweetness\"]\n",
        "\n",
        "p10 = np.mean(np.abs(pred - mango_data[\"rated_flavor\"]))"
      ]
    },
    {
      "cell_type": "markdown",
      "metadata": {
        "id": "QkcC4ULtXm2o"
      },
      "source": [
        "Check the value of `p10`."
      ]
    },
    {
      "cell_type": "code",
      "execution_count": 38,
      "metadata": {
        "id": "64OoS_GZXogM"
      },
      "outputs": [
        {
          "data": {
            "text/plain": [
              "0.7375"
            ]
          },
          "execution_count": 38,
          "metadata": {},
          "output_type": "execute_result"
        }
      ],
      "source": [
        "p10"
      ]
    },
    {
      "cell_type": "markdown",
      "metadata": {},
      "source": [
        "### Problem 11\n",
        "\n",
        "Build a linear regression for the mango rated flavor column using just the estimated flavor column.\n",
        "Set `p11` to the prediction of this model when the estimated flavor value is 3."
      ]
    },
    {
      "cell_type": "code",
      "execution_count": 43,
      "metadata": {},
      "outputs": [
        {
          "name": "stderr",
          "output_type": "stream",
          "text": [
            "c:\\Users\\kengt\\anaconda3\\Lib\\site-packages\\sklearn\\base.py:439: UserWarning: X does not have valid feature names, but LinearRegression was fitted with feature names\n",
            "  warnings.warn(\n"
          ]
        }
      ],
      "source": [
        "# YOUR CHANGES HERE\n",
        "from sklearn.linear_model import LinearRegression\n",
        "\n",
        "X = mango_data[[\"estimated_flavor\"]]\n",
        "y = mango_data[\"rated_flavor\"]\n",
        "\n",
        "model = LinearRegression()\n",
        "model.fit(X, y)\n",
        "\n",
        "p11 = model.predict(np.array([[3]]))[0]"
      ]
    },
    {
      "cell_type": "markdown",
      "metadata": {},
      "source": [
        "Check the value of `p11`."
      ]
    },
    {
      "cell_type": "code",
      "execution_count": 44,
      "metadata": {},
      "outputs": [
        {
          "data": {
            "text/plain": [
              "2.2142857142857144"
            ]
          },
          "execution_count": 44,
          "metadata": {},
          "output_type": "execute_result"
        }
      ],
      "source": [
        "p11"
      ]
    },
    {
      "cell_type": "markdown",
      "metadata": {},
      "source": [
        "### Problem 12\n",
        "\n",
        "Build a linear regression for the mango rated flavor column using just the yellow rating column.\n",
        "Set `p12` to the additive constant in the linear equation.\n",
        "\n",
        "You can look at the videos or code examples to see how to get the additive constant depending how you built the model, or evaluate your model with all zero inputs."
      ]
    },
    {
      "cell_type": "code",
      "execution_count": null,
      "metadata": {},
      "outputs": [],
      "source": [
        "# YOUR CHANGES HERE\n",
        "# X must be 2D for sklearn\n",
        "X = mango_data[[\"yellow_rating\"]]\n",
        "y = mango_data[\"rated_flavor\"]\n",
        "\n",
        "# Fit regression model\n",
        "model = LinearRegression()\n",
        "model.fit(X, y)\n",
        "\n",
        "p12 = model.intercept_"
      ]
    },
    {
      "cell_type": "markdown",
      "metadata": {},
      "source": [
        "Check the value of `p12`."
      ]
    },
    {
      "cell_type": "code",
      "execution_count": 46,
      "metadata": {},
      "outputs": [
        {
          "data": {
            "text/plain": [
              "0.33333333333333304"
            ]
          },
          "execution_count": 46,
          "metadata": {},
          "output_type": "execute_result"
        }
      ],
      "source": [
        "p12"
      ]
    },
    {
      "cell_type": "markdown",
      "metadata": {},
      "source": [
        "### Problem 13\n",
        "\n",
        "Build a linear regression for the mango rated flavor column using just the yellow rating column.\n",
        "(You can reuse the regression built for problem 12.)\n",
        "Set `p13` to the coefficient of the yellow rating value in the linear equation.\n",
        "\n",
        "You can look at the videos or code examples to see how to get coefficient, or you may be able to deduce it with a couple evaluations of the model (e.g. $f(1) - f(0)$)."
      ]
    },
    {
      "cell_type": "code",
      "execution_count": 47,
      "metadata": {},
      "outputs": [],
      "source": [
        "# YOUR CHANGES HERE\n",
        "\n",
        "p13 = model.coef_[0]\n"
      ]
    },
    {
      "cell_type": "markdown",
      "metadata": {},
      "source": [
        "Check the value of `p13`."
      ]
    },
    {
      "cell_type": "code",
      "execution_count": 48,
      "metadata": {},
      "outputs": [
        {
          "data": {
            "text/plain": [
              "0.5555555555555557"
            ]
          },
          "execution_count": 48,
          "metadata": {},
          "output_type": "execute_result"
        }
      ],
      "source": [
        "p13"
      ]
    },
    {
      "cell_type": "markdown",
      "metadata": {
        "id": "-W9vt7g7Y_-_"
      },
      "source": [
        "### Problem 14\n",
        "\n",
        "Set `p14` to be the sample variance of the rated flavors in the mango data set."
      ]
    },
    {
      "cell_type": "code",
      "execution_count": 49,
      "metadata": {
        "id": "W1tI40DQZJTZ"
      },
      "outputs": [],
      "source": [
        "# YOUR CHANGES HERE\n",
        "\n",
        "p14 = mango_data[\"rated_flavor\"].var(ddof=1)"
      ]
    },
    {
      "cell_type": "markdown",
      "metadata": {},
      "source": [
        "Check the value of `p14`."
      ]
    },
    {
      "cell_type": "code",
      "execution_count": 50,
      "metadata": {},
      "outputs": [
        {
          "data": {
            "text/plain": [
              "2.0"
            ]
          },
          "execution_count": 50,
          "metadata": {},
          "output_type": "execute_result"
        }
      ],
      "source": [
        "p14"
      ]
    },
    {
      "cell_type": "markdown",
      "metadata": {
        "id": "dgmtpHkbZK6S"
      },
      "source": [
        "### Problem 15\n",
        "\n",
        "Set `p15` to be the means of each column of the mango data set.\n",
        "Your output should be a sequence of the means in the same order as the columns of the mango data set.\n",
        "\n",
        "You can calculate this however you like with just Python, NumPy's [numpy.mean](), or pandas' [pandas.DataFrame.mean](https://pandas.pydata.org/pandas-docs/stable/reference/api/pandas.DataFrame.mean.html) method.\n",
        "We suggest trying the pandas method for your own convenience.\n"
      ]
    },
    {
      "cell_type": "code",
      "execution_count": 51,
      "metadata": {
        "id": "_1Ty-1wxaKgp"
      },
      "outputs": [],
      "source": [
        "# YOUR CHANGES HERE\n",
        "\n",
        "p15 = mango_data.mean()"
      ]
    },
    {
      "cell_type": "markdown",
      "metadata": {},
      "source": [
        "Check the values in `p15`."
      ]
    },
    {
      "cell_type": "code",
      "execution_count": 52,
      "metadata": {},
      "outputs": [
        {
          "data": {
            "text/plain": [
              "green_rating           3.000\n",
              "yellow_rating          3.000\n",
              "softness               2.375\n",
              "wrinkles               0.750\n",
              "estimated_flavor       2.500\n",
              "estimated_sweetness    2.250\n",
              "rated_flavor           2.000\n",
              "dtype: float64"
            ]
          },
          "execution_count": 52,
          "metadata": {},
          "output_type": "execute_result"
        }
      ],
      "source": [
        "p15"
      ]
    },
    {
      "cell_type": "markdown",
      "metadata": {
        "id": "ffYsVqOrapLr"
      },
      "source": [
        "### Problem 16\n",
        "\n",
        "Given the following three functions,\n",
        "\n",
        "* $f_a(x) = 1.0 (\\mathrm{yellow~rating})$\n",
        "* $f_b(x) = 0.4 (\\mathrm{yellow~rating}) + 0.6 (\\mathrm{estimated~sweetness})$\n",
        "* $f_c(x) = 0.4 (\\mathrm{yellow~rating}) + 0.2 (\\mathrm{softness}) + 0.3 (\\mathrm{estimated~sweetness})$\n",
        "\n",
        "set `p16` to `\"a\"`, `\"b\"`, or `\"c\"` to indicate which one has the lowest $L_1$ loss predicting the rated flavor column.\n"
      ]
    },
    {
      "cell_type": "code",
      "execution_count": 57,
      "metadata": {
        "id": "78iwN5f4bKtS"
      },
      "outputs": [
        {
          "data": {
            "text/plain": [
              "'c'"
            ]
          },
          "execution_count": 57,
          "metadata": {},
          "output_type": "execute_result"
        }
      ],
      "source": [
        "# YOUR CHANGES HERE\n",
        "fa = mango_data[\"yellow_rating\"]\n",
        "\n",
        "fb = 0.4 * mango_data[\"yellow_rating\"] + 0.6 * mango_data[\"estimated_sweetness\"]\n",
        "\n",
        "fc = 0.4 * mango_data[\"yellow_rating\"] + 0.2 * mango_data[\"softness\"] + 0.3 * mango_data[\"estimated_sweetness\"]\n",
        "\n",
        "loss_a = np.mean(np.abs(fa - mango_data[\"rated_flavor\"]))\n",
        "loss_b = np.mean(np.abs(fb - mango_data[\"rated_flavor\"]))\n",
        "loss_c = np.mean(np.abs(fc - mango_data[\"rated_flavor\"]))\n",
        "\n",
        "losses = {\"a\": loss_a, \"b\": loss_b, \"c\": loss_c}\n",
        "p16 = min(losses, key=losses.get)\n",
        "\n",
        "p16\n"
      ]
    },
    {
      "cell_type": "markdown",
      "metadata": {
        "id": "kiCe_P5ubjnR"
      },
      "source": [
        "### Problem 17\n",
        "\n",
        "Load the data file \"f17.tsv\" and set `p17` to be a sequence of the means of each column."
      ]
    },
    {
      "cell_type": "code",
      "execution_count": 60,
      "metadata": {
        "id": "ve2czA0Ebzdf"
      },
      "outputs": [],
      "source": [
        "# YOUR CHANGES HERE\n",
        "\n",
        "f17 = pd.read_csv(\"f17.tsv\", sep=\"\\t\")\n",
        "\n",
        "p17 = f17.mean()"
      ]
    },
    {
      "cell_type": "markdown",
      "metadata": {
        "id": "rJlcKEafaIZu"
      },
      "source": [
        "### Problem 18\n",
        "\n",
        "Set `p18` to be the $R^2$ value of the function `f18` predicting the rated flavor for the mango data set."
      ]
    },
    {
      "cell_type": "code",
      "execution_count": 58,
      "metadata": {
        "id": "pqbMFuUpaj5m"
      },
      "outputs": [],
      "source": [
        "def f18(df):\n",
        "    return 0.7 * df[\"estimated_flavor\"]"
      ]
    },
    {
      "cell_type": "code",
      "execution_count": null,
      "metadata": {
        "id": "JbEO9iX4VwQG"
      },
      "outputs": [],
      "source": [
        "# YOUR CHANGES HERE\n",
        "\n"
      ]
    },
    {
      "cell_type": "markdown",
      "metadata": {
        "id": "_5SxtVnlcFWd"
      },
      "source": [
        "### Problem 19\n",
        "\n",
        "Set `p19` to be the average $L_2$ loss of using `f19` to predict the rated flavor of the mango data set.\n",
        "\n",
        "`f19` is not linear, but this should not affect your loss calculation."
      ]
    },
    {
      "cell_type": "code",
      "execution_count": null,
      "metadata": {
        "id": "Ri6AjxYpcZol"
      },
      "outputs": [],
      "source": [
        "def f19(df):\n",
        "    return (df[\"yellow_rating\"] ** 2) / 10 + df[\"estimated_sweetness\"] * 0.5"
      ]
    },
    {
      "cell_type": "code",
      "execution_count": null,
      "metadata": {
        "colab": {
          "base_uri": "https://localhost:8080/"
        },
        "id": "vHMUl4L6cnD4",
        "outputId": "5139bc4c-f55a-49b7-ddfb-e65ca1d36d1d"
      },
      "outputs": [
        {
          "data": {
            "text/plain": [
              "Ellipsis"
            ]
          },
          "execution_count": null,
          "metadata": {},
          "output_type": "execute_result"
        }
      ],
      "source": [
        "# YOUR CHANGES HERE\n",
        "\n",
        "..."
      ]
    },
    {
      "cell_type": "markdown",
      "metadata": {},
      "source": [
        "Check the value of `p19`."
      ]
    },
    {
      "cell_type": "code",
      "execution_count": null,
      "metadata": {},
      "outputs": [],
      "source": [
        "p19"
      ]
    },
    {
      "cell_type": "markdown",
      "metadata": {},
      "source": [
        "### Problem 20\n",
        "\n",
        "Build a linear regression for the mango rated flavor column using all the other columns as inputs.\n",
        "Set `p20` to the column with the highest positive coefficient.\n",
        "(`p20` should be a string with the name of the column.)"
      ]
    },
    {
      "cell_type": "code",
      "execution_count": null,
      "metadata": {},
      "outputs": [],
      "source": [
        "mango_inputs = mango_data.drop(\"rated_flavor\", axis=1)\n",
        "mango_inputs"
      ]
    },
    {
      "cell_type": "code",
      "execution_count": null,
      "metadata": {},
      "outputs": [],
      "source": [
        "# YOUR CHANGES HERE\n",
        "\n",
        "p20 = ..."
      ]
    },
    {
      "cell_type": "markdown",
      "metadata": {},
      "source": [
        "Check the value of `p20`."
      ]
    },
    {
      "cell_type": "code",
      "execution_count": null,
      "metadata": {},
      "outputs": [],
      "source": [
        "p20"
      ]
    },
    {
      "cell_type": "markdown",
      "metadata": {},
      "source": [
        "### Generative AI Usage\n",
        "\n",
        "If you used any generative AI tools, please add links to your transcripts below, and any other information that you feel is necessary to comply with the [generative AI policy](https://www.bu.edu/cds-faculty/culture-community/gaia-policy/).\n",
        "If you did not use any generative AI tools, simply write NONE below."
      ]
    },
    {
      "cell_type": "markdown",
      "metadata": {},
      "source": [
        "YOUR ANSWER HERE"
      ]
    }
  ],
  "metadata": {
    "colab": {
      "toc_visible": false
    },
    "kernelspec": {
      "display_name": "base",
      "language": "python",
      "name": "python3"
    },
    "language_info": {
      "codemirror_mode": {
        "name": "ipython",
        "version": 3
      },
      "file_extension": ".py",
      "mimetype": "text/x-python",
      "name": "python",
      "nbconvert_exporter": "python",
      "pygments_lexer": "ipython3",
      "version": "3.11.7"
    }
  },
  "nbformat": 4,
  "nbformat_minor": 0
}
